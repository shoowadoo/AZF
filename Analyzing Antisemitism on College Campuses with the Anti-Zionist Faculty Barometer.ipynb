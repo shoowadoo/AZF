{
 "cells": [
  {
   "cell_type": "markdown",
   "id": "982a56a0-bb46-463a-9c65-06648aa50ef2",
   "metadata": {},
   "source": [
    "## Introduction"
   ]
  },
  {
   "cell_type": "markdown",
   "id": "63ad1463-10ea-4551-ac78-7926180264fd",
   "metadata": {},
   "source": [
    "Since the October 7th terrorist attack on Israel by Palestinians, antisemitism and anti-Zionism has spread like wildfire throughout the world. One place where antisemitism has skyrocketed in recent years is on American college campuses. This alarming spread has been linked to the group \"Faculty for Justice in Palestine\" (FJP), which has over 170 chapters across the U.S. Behind the creation of this faculty group is the Palestinian Campaign for the Academic and Cultural Boycott of Israel (PACBI), a group linked to five U.S. designated terrorist organizations including Hamas and Palestinian Islamic Jihad.\n",
    "\n",
    "In an effort to combat the spread of antisemitism on American college campuses, the AMCHA Initiative recently released the Anti-Zionist Faculty (AZF) Barometer. This comprehensive, one-of-a-kind tool was designed to help people \"evaluate the pervasiveness of anti-Zionist faculty at hundreds of U.S. colleges and universities.\" Schools with active FJP chapters report higher rates of violent antisemitic activity, making the group's presence a significant factor in a university's AZF Barometer ranking.\n",
    "\n",
    "In what follows, we will explore this fascinating new tool via data analysis in a Jupyter Notebook. To do so, we will first collect relevant data from the AMCHA Initiative website via web scraping. We will then prepare the scraped data in a way that allows us to explore the data and to start asking interesting questions. Finally, we will do some basic statistics on the data in order to demonstrate the extent of antisemitism on college campuses in America."
   ]
  },
  {
   "cell_type": "markdown",
   "id": "2cb1e268-1f61-4802-b67c-0875c75f6385",
   "metadata": {},
   "source": [
    "## Data collection and preparation"
   ]
  },
  {
   "cell_type": "markdown",
   "id": "0a84db39-b8ac-45fd-b501-22baea291ce8",
   "metadata": {
    "collapsed": true,
    "jupyter": {
     "outputs_hidden": true
    }
   },
   "source": [
    "### Webscraping data"
   ]
  },
  {
   "cell_type": "markdown",
   "id": "ce52b5f3-05ba-4473-b7bf-a625b2fd4f2e",
   "metadata": {},
   "source": [
    "We will be using Selenium and BeautifulSoup for gathering our data from the webpage."
   ]
  },
  {
   "cell_type": "code",
   "execution_count": null,
   "id": "143a0619-d759-4604-97e5-00380cbf4e37",
   "metadata": {},
   "outputs": [],
   "source": [
    "# uncomment below if needed to install \n",
    "#!pip install selenium beautifulsoup4"
   ]
  },
  {
   "cell_type": "markdown",
   "id": "06af1e5d-ba22-49bd-9c52-f6ded85a5af1",
   "metadata": {},
   "source": [
    "We will need the following imports for this purpose."
   ]
  },
  {
   "cell_type": "code",
   "execution_count": 1,
   "id": "8820b303-9a91-4ad4-ade8-19a74250941f",
   "metadata": {},
   "outputs": [],
   "source": [
    "from selenium.webdriver.common.by import By\n",
    "from selenium.webdriver.support.ui import WebDriverWait\n",
    "from selenium.webdriver.support import expected_conditions as EC\n",
    "from selenium import webdriver\n",
    "from bs4 import BeautifulSoup"
   ]
  },
  {
   "cell_type": "markdown",
   "id": "c25207bd-7507-4548-9e62-d21e3ce96ef6",
   "metadata": {},
   "source": [
    "We want to set up a `webdriver` for us to control a Chrome browser. We use this webdriver to tell Chrome to visit the AMCHA Initiative webpage where the Anti-Zionist Faculty Barometer is located. The web address we provide our webdriver also contains special instructions to display 1000 entries per page and to load the first page of the results. This will allow us to acquire all of the webpage's content in one fell swoop."
   ]
  },
  {
   "cell_type": "code",
   "execution_count": 2,
   "id": "6b917af4-f825-4b38-9a3d-6f890ca6b7bc",
   "metadata": {},
   "outputs": [],
   "source": [
    "driver = webdriver.Chrome()\n",
    "\n",
    "driver.get('https://amchainitiative.org/azf-barometer/?ppwp=1#anti-zionist-faculty-barometer/?ppwp=1&view_433_per_page=1000&view_433_page=1')"
   ]
  },
  {
   "cell_type": "markdown",
   "id": "c1148ec2-e6bb-4744-b9c4-41ddf7048c07",
   "metadata": {},
   "source": [
    "Next, we retrieve the webpage's content and hand it over to `BeautifulSoup` for processing, and we let it know we will be parsing HTML data. We can then print the parsed content, showing the structure and data of the webpage.\n",
    "\n",
    "Note: Please make sure the webdriver is fully loaded before running the next cell, or we will have missing content. Also, be sure to remove `%%capture` if you want to examine the contents of the `soup`."
   ]
  },
  {
   "cell_type": "code",
   "execution_count": 3,
   "id": "d4d0dda1-67c4-4740-bbbd-a8eb55523281",
   "metadata": {},
   "outputs": [],
   "source": [
    "%%capture\n",
    "\n",
    "page_source = driver.page_source\n",
    "soup = BeautifulSoup(page_source, 'html.parser')\n",
    "\n",
    "soup"
   ]
  },
  {
   "cell_type": "markdown",
   "id": "f37bf5bf-2a76-4765-b1d5-853ff87b47b0",
   "metadata": {},
   "source": [
    "Our `soup` contains the entire HTML content of the webpage. We can now extract the specific information from the webpage that we want to work with. We are particularly interested in the tabular data, but first let's display all of the rich text data from the webpage. Of course, we can read this information on the webpage itself, but we can also do so here. We can use the `find_all()` method to extract all sections of the webpage that have rich text."
   ]
  },
  {
   "cell_type": "code",
   "execution_count": 4,
   "id": "58b649ed-3b7b-4781-9eb7-aaf6ac11041b",
   "metadata": {},
   "outputs": [
    {
     "data": {
      "text/plain": [
       "<div class=\"fl-rich-text\">\n",
       "<p><em>Explore the Anti-Zionist Faculty (AZF) Barometer, a powerful ranking tool that measures the prevalence of anti-Zionist faculty on U.S. campuses, empowering stakeholders to advocate for stronger protections against the normalization of academic antisemitism.</em></p>\n",
       "<p style=\"text-align: center;\">For further information, see the <a href=\"https://amchainitiative.org/wp-content/uploads/2024/12/Guide-to-AZM-Barometer.pdf\">Guide to the AZF Barometer</a></p>\n",
       "<p style=\"text-align: center;\"><a href=\"#search\">Jump to Search</a></p>\n",
       "</div>"
      ]
     },
     "execution_count": 4,
     "metadata": {},
     "output_type": "execute_result"
    }
   ],
   "source": [
    "text_info = soup.find_all('div', class_=\"fl-rich-text\")\n",
    "text_info[0]"
   ]
  },
  {
   "cell_type": "markdown",
   "id": "45d07259-a29f-4c4b-8547-5cdcc345558e",
   "metadata": {},
   "source": [
    "We have now extracted all sections of the webpage that have the tag `<div class=\"fl-rich-text\">`. Each section is contained in a list, and we display the first one above. Notice how the first line is the tag we told `soup` to find. Also, notice how the second line contains textual information after the tags `<p><em>`. This is the information we want, but it would be nice to see it displayed without all the HTML, just like we do when we go to the actual webpage. To do this, we just have to move through each section in our list one by one and tell it that we only want to display the rich text."
   ]
  },
  {
   "cell_type": "code",
   "execution_count": 5,
   "id": "d800a673-c4e4-485f-a0ca-8e3178dc9a93",
   "metadata": {},
   "outputs": [
    {
     "name": "stdout",
     "output_type": "stream",
     "text": [
      "\n",
      "Explore the Anti-Zionist Faculty (AZF) Barometer, a powerful ranking tool that measures the prevalence of anti-Zionist faculty on U.S. campuses, empowering stakeholders to advocate for stronger protections against the normalization of academic antisemitism.\n",
      "For further information, see the Guide to the AZF Barometer\n",
      "Jump to Search\n",
      "\n",
      "\n",
      "An Overview of the Anti-Zionist Faculty (AZF) Barometer\n",
      "\n",
      "\n",
      "About the Barometer:\n",
      "The Anti-Zionist Faculty (AZF) Barometer provides a ranking system to measure the presence and activity of anti-Zionist faculty on U.S. college campuses. AMCHA Initiative’s research shows a strong correlation between anti-Zionist faculty presence and the severity of campus antisemitism, including physical assaults, threats, and harassment targeting Jewish students.\n",
      "The rise of Faculty for Justice in Palestine (FJP), a network of over 170 campus chapters established after Hamas' October 7, 2023 attack, has exacerbated this issue. FJP was launched in response to a call from the US Campaign for the Academic and Cultural Boycott of Israel, and members are encouraged to use their academic positions and departmental resources to actively promote the academic boycott of Israel (academic BDS) by engaging in actions to purge their campuses of Zionism and Zionists. Campuses with active FJP chapters experience higher rates of violent antisemitic activity, making their presence a critical factor in the AZF Barometer.\n",
      "The AZF Barometer ranks over 700 colleges and universities on a scale from 0 (Negligible) to 5 (Extreme) based on four measures of anti-Zionist faculty presence and activity: publicly available data on faculty academic boycotters (through October 31, 2024), departmental anti-Zionist statements (through October 31, 2024), FJP chapter presence (through October 31, 2024), and FJP events or statements from October 7, 2023, to June 30, 2024.\n",
      "These rankings - updated annually - can help students, families, and stakeholders evaluate how welcoming or hostile a campus may be for Jewish or pro-Israel students and advocate for administrative and legislative measures to counter faculty misuse of their positions to promote antisemitism.\n",
      "\n",
      "\n",
      "Rankings Include: \n",
      "Extreme (5)\n",
      "(Critical level of anti-Zionist faculty presence/activity found)\n",
      "Severe (4)\n",
      "(High anti-Zionist faculty presence/activity found)\n",
      "Significant (3)\n",
      "(Significant anti-Zionist faculty presence/activity found)\n",
      "Moderate (2)\n",
      "(Moderate anti-Zionist faculty presence/activity found)\n",
      "Minimal (1)\n",
      "(Minimal anti-Zionist faculty presence/activity found)\n",
      "Negligible (0)\n",
      "(Little to no anti-Zionist faculty presence/activity found)\n",
      "For more information on the these rankings,\n",
      "see FAQ’s, Guide to the AZF Barometer, and Disclaimer.\n",
      "\n",
      "\n",
      "Search the Anti-Zionist Faculty Barometer\n",
      "\n"
     ]
    }
   ],
   "source": [
    "for section in text_info:\n",
    "    print(section.text)"
   ]
  },
  {
   "cell_type": "markdown",
   "id": "af0f7d56-1791-420b-9303-17b41d86e5f2",
   "metadata": {},
   "source": [
    "We have now extracted and displayed all of the rich text from the webpage. Of particular interest for our purposes is the information about the different rankings and their meanings. We will need to know this information later on to interpret the tabular data.\n",
    "\n",
    "Let's now extract the tabular data, which consists of rows and columns, from the webpage. This is the data we need to do our statistical analysis. Once again, be sure to remove `%%capture` if you want to examine the entire `table`."
   ]
  },
  {
   "cell_type": "code",
   "execution_count": 6,
   "id": "a768ea73-134a-43c9-960b-8cb80be80823",
   "metadata": {},
   "outputs": [],
   "source": [
    "%%capture\n",
    "\n",
    "table = soup.find('div', class_='kn-table-wrapper')\n",
    "table"
   ]
  },
  {
   "cell_type": "markdown",
   "id": "bfa169d9-f4c0-450a-8caf-325f3fdc5cf9",
   "metadata": {},
   "source": [
    "We can display all the column header names like this: "
   ]
  },
  {
   "cell_type": "code",
   "execution_count": 7,
   "id": "12759c57-1595-4af7-8ccd-c8447bf10c72",
   "metadata": {},
   "outputs": [
    {
     "name": "stdout",
     "output_type": "stream",
     "text": [
      "College/University\n",
      "School Rankings\n",
      "# Faculty Boycotters\n",
      "FJP (Y/N)\n",
      "FJP Events & Statements\n",
      "Depts w/Statements (Y/N)\n",
      "View More\n"
     ]
    }
   ],
   "source": [
    "# table header column names \n",
    "for th in table.find_all('th'):\n",
    "    print(th.text.strip())"
   ]
  },
  {
   "cell_type": "markdown",
   "id": "24a91b9e-8e51-441a-86f0-a45040777767",
   "metadata": {},
   "source": [
    "But in order to be able to do statistical analysis with the data from the webpage, we need to structure it in a way that can be easily processed and analyzed by a computer. We can do this by creating our own table or dataframe using the Pandas library."
   ]
  },
  {
   "cell_type": "markdown",
   "id": "80769ada-b40f-4e68-b33b-ac77539407d9",
   "metadata": {},
   "source": [
    "### Setting up the dataframe"
   ]
  },
  {
   "cell_type": "markdown",
   "id": "3c797871-1b98-4b68-a919-1eb34bb7b8d4",
   "metadata": {},
   "source": [
    "We begin by setting up the dataframe with our column header names. First, let's put all column header names into a list. Then, we can import Pandas and easily add the columns we want to a Pandas dataframe."
   ]
  },
  {
   "cell_type": "code",
   "execution_count": 8,
   "id": "3e85bc8a-4389-48b0-a428-e03989f5e644",
   "metadata": {},
   "outputs": [
    {
     "data": {
      "text/plain": [
       "['College/University',\n",
       " 'School Rankings',\n",
       " '# Faculty Boycotters',\n",
       " 'FJP (Y/N)',\n",
       " 'FJP Events & Statements',\n",
       " 'Depts w/Statements (Y/N)',\n",
       " 'View More']"
      ]
     },
     "execution_count": 8,
     "metadata": {},
     "output_type": "execute_result"
    }
   ],
   "source": [
    "column_headers = []\n",
    "\n",
    "for th in table.find_all('th'):\n",
    "    column_headers.append(th.text.strip())\n",
    "\n",
    "column_headers"
   ]
  },
  {
   "cell_type": "code",
   "execution_count": 9,
   "id": "81063a10-fd0c-433d-b5f7-553aa2ba94bf",
   "metadata": {},
   "outputs": [],
   "source": [
    "import pandas as pd "
   ]
  },
  {
   "cell_type": "code",
   "execution_count": 10,
   "id": "4eb16504-d94f-4dce-b26b-38c11481d10a",
   "metadata": {},
   "outputs": [
    {
     "data": {
      "text/html": [
       "<div>\n",
       "<style scoped>\n",
       "    .dataframe tbody tr th:only-of-type {\n",
       "        vertical-align: middle;\n",
       "    }\n",
       "\n",
       "    .dataframe tbody tr th {\n",
       "        vertical-align: top;\n",
       "    }\n",
       "\n",
       "    .dataframe thead th {\n",
       "        text-align: right;\n",
       "    }\n",
       "</style>\n",
       "<table border=\"1\" class=\"dataframe\">\n",
       "  <thead>\n",
       "    <tr style=\"text-align: right;\">\n",
       "      <th></th>\n",
       "      <th>College/University</th>\n",
       "      <th>School Rankings</th>\n",
       "      <th># Faculty Boycotters</th>\n",
       "      <th>FJP (Y/N)</th>\n",
       "      <th>FJP Events &amp; Statements</th>\n",
       "      <th>Depts w/Statements (Y/N)</th>\n",
       "    </tr>\n",
       "  </thead>\n",
       "  <tbody>\n",
       "  </tbody>\n",
       "</table>\n",
       "</div>"
      ],
      "text/plain": [
       "Empty DataFrame\n",
       "Columns: [College/University, School Rankings, # Faculty Boycotters, FJP (Y/N), FJP Events & Statements, Depts w/Statements (Y/N)]\n",
       "Index: []"
      ]
     },
     "execution_count": 10,
     "metadata": {},
     "output_type": "execute_result"
    }
   ],
   "source": [
    "df = pd.DataFrame(columns=column_headers[:-1])\n",
    "df"
   ]
  },
  {
   "cell_type": "markdown",
   "id": "afd37e2f-aa20-4e4b-8bce-111be52c2c56",
   "metadata": {},
   "source": [
    "We've added every column but the last to our dataframe and displayed our dataframe `df`, which currently has just our header names. The next thing we want to do is to scrape each row of data and add it to our dataframe."
   ]
  },
  {
   "cell_type": "markdown",
   "id": "bfa20a1b-36dc-402a-a41b-834d8a4a1982",
   "metadata": {},
   "source": [
    "### Scraping each row of data"
   ]
  },
  {
   "cell_type": "markdown",
   "id": "bfc19e32-9059-4aa1-9744-7ffae47f67c0",
   "metadata": {},
   "source": [
    "In the HTML we scraped from the webpage, each row in our table begins with a `<tr>` tag for 'table row', and we can find them all in our `table` object, again by using `find_all()`. However, we will need to skip the first `<tr>` which is the row of header names we've already added to our dataframe `df`. After finding and storing all `<tr>` tags in a `data` object, we display the first row. Notice the `<tr>` tag in the first line."
   ]
  },
  {
   "cell_type": "code",
   "execution_count": 11,
   "id": "bca01f4b-e297-4a11-9713-87276c515429",
   "metadata": {},
   "outputs": [
    {
     "data": {
      "text/plain": [
       "<tr id=\"674f85e1d516bc02d4922901\">\n",
       "<td class=\"field_246 cell-edit\" data-column-index=\"0\" data-field-key=\"field_246\" style=\"font-weight: bold; \"><span class=\"col-0\">\n",
       "<span class=\"5b4bd8b22d7f5f28788b16d3\">New York University (NYU)</span>\n",
       "</span></td>\n",
       "<td class=\"field_294 cell-edit\" data-column-index=\"1\" data-field-key=\"field_294\" style=\"text-align: center; background-color:#c30b01; font-weight: bold; color:#ffffff; \"><span class=\"col-1\">\n",
       "5 - Extreme\n",
       "  </span></td>\n",
       "<td class=\"field_249 cell-edit\" data-column-index=\"2\" data-field-key=\"field_249\" style=\"text-align: center; \"><span class=\"col-2\">\n",
       "123\n",
       "  </span></td>\n",
       "<td class=\"field_252 cell-edit\" data-column-index=\"3\" data-field-key=\"field_252\" style=\"text-align: center; \"><span class=\"col-3\">\n",
       "Yes\n",
       "  </span></td>\n",
       "<td class=\"field_259 cell-edit\" data-column-index=\"4\" data-field-key=\"field_259\" style=\"text-align: center; \"><span class=\"col-4\">\n",
       "44\n",
       "  </span></td>\n",
       "<td class=\"field_261 cell-edit\" data-column-index=\"5\" data-field-key=\"field_261\" style=\"text-align: center; \"><span class=\"col-5\">\n",
       "Yes\n",
       "  </span></td>\n",
       "<td class=\"kn-table-link knTableColumn__link\"><span class=\"col-6\">\n",
       "<a class=\"kn-link kn-link-page\" data-vue-component=\"viewLink\" href=\"#anti-zionist-faculty-barometer/view-anti-zionist-faculty-barometer-details/674f85e1d516bc02d4922901?ref=ppwp%3D1%26view_433_per_page%3D1000%26view_433_page%3D1\">view data</a>\n",
       "</span></td>\n",
       "</tr>"
      ]
     },
     "execution_count": 11,
     "metadata": {},
     "output_type": "execute_result"
    }
   ],
   "source": [
    "data = table.find_all('tr')[1:]\n",
    "data[0]"
   ]
  },
  {
   "cell_type": "markdown",
   "id": "d8160a51-6728-4266-ad74-ccd5d1b6cda8",
   "metadata": {},
   "source": [
    "Again, we can display just the text (for the first row) without all that distracting HTML. "
   ]
  },
  {
   "cell_type": "code",
   "execution_count": 13,
   "id": "309a0d96-5e15-46c6-be68-597b969ede33",
   "metadata": {},
   "outputs": [
    {
     "name": "stdout",
     "output_type": "stream",
     "text": [
      "New York University (NYU)\n",
      "5 - Extreme\n",
      "123\n",
      "Yes\n",
      "44\n",
      "Yes\n"
     ]
    }
   ],
   "source": [
    "row_data = data[0].find_all('td')\n",
    "for data_point in row_data[:-1]:\n",
    "    print(data_point.text.strip())"
   ]
  },
  {
   "cell_type": "markdown",
   "id": "9a90851a-eb89-46ca-8a0f-72be0d094572",
   "metadata": {},
   "source": [
    "Above are the data points for our first row of data in our table, one data point for each one of our columns. We will iterate through each row of our `data` object, extract all data points of each row, and add each data point of a row to a list of `school_data`. We will then add this list of school data to a master list of all `schools`. Afterwards, we can inspect the first 5 schools in our master list. "
   ]
  },
  {
   "cell_type": "code",
   "execution_count": 14,
   "id": "e81a80a6-27ca-4721-901f-30bbb2b4210d",
   "metadata": {},
   "outputs": [
    {
     "data": {
      "text/plain": [
       "[['New York University (NYU)', '5 - Extreme', '123', 'Yes', '44', 'Yes'],\n",
       " ['University of Minnesota Twin Cities',\n",
       "  '5 - Extreme',\n",
       "  '35',\n",
       "  'Yes',\n",
       "  '54',\n",
       "  'Yes'],\n",
       " ['Columbia University/Barnard College',\n",
       "  '5 - Extreme',\n",
       "  '72',\n",
       "  'Yes',\n",
       "  '27',\n",
       "  'Yes'],\n",
       " ['University of California Santa Cruz (UCSC)',\n",
       "  '5 - Extreme',\n",
       "  '39',\n",
       "  'Yes',\n",
       "  '40',\n",
       "  'Yes'],\n",
       " ['University of Washington', '5 - Extreme', '76', 'Yes', '21', 'Yes']]"
      ]
     },
     "execution_count": 14,
     "metadata": {},
     "output_type": "execute_result"
    }
   ],
   "source": [
    "schools = []\n",
    "for row in data: \n",
    "    row_data = row.find_all('td')\n",
    "    school_data = [data_point.text.strip() for data_point in row_data[:-1]]\n",
    "    schools.append(school_data)\n",
    "schools[:5]"
   ]
  },
  {
   "cell_type": "markdown",
   "id": "54acae39-8cf2-4991-8615-5eab90f718b1",
   "metadata": {},
   "source": [
    "We can determine the number of schools in our master list by getting the length of the master list."
   ]
  },
  {
   "cell_type": "code",
   "execution_count": 15,
   "id": "56144606-689f-4e61-a473-d2d91ca7c7c4",
   "metadata": {},
   "outputs": [
    {
     "name": "stdout",
     "output_type": "stream",
     "text": [
      "Number of schools: 727\n"
     ]
    }
   ],
   "source": [
    "num_of_schools = len(schools)\n",
    "print(\"Number of schools: \" + str(num_of_schools))"
   ]
  },
  {
   "cell_type": "markdown",
   "id": "dfccddef-e954-4642-98e6-1227fe0bad99",
   "metadata": {},
   "source": [
    "We are now ready to add 727 rows of data to our dataframe."
   ]
  },
  {
   "cell_type": "markdown",
   "id": "793f1306-4f3e-41c8-b905-b92d2c5be118",
   "metadata": {},
   "source": [
    "### Construct dataframe"
   ]
  },
  {
   "cell_type": "markdown",
   "id": "3e032f45-e136-43a1-bf49-fd1c0cb77e0b",
   "metadata": {},
   "source": [
    "Let's examine our dataframe so far again, which currently has only the column header names."
   ]
  },
  {
   "cell_type": "code",
   "execution_count": 16,
   "id": "18581725-194c-4c8d-9709-cd8c36f5c410",
   "metadata": {},
   "outputs": [
    {
     "data": {
      "text/html": [
       "<div>\n",
       "<style scoped>\n",
       "    .dataframe tbody tr th:only-of-type {\n",
       "        vertical-align: middle;\n",
       "    }\n",
       "\n",
       "    .dataframe tbody tr th {\n",
       "        vertical-align: top;\n",
       "    }\n",
       "\n",
       "    .dataframe thead th {\n",
       "        text-align: right;\n",
       "    }\n",
       "</style>\n",
       "<table border=\"1\" class=\"dataframe\">\n",
       "  <thead>\n",
       "    <tr style=\"text-align: right;\">\n",
       "      <th></th>\n",
       "      <th>College/University</th>\n",
       "      <th>School Rankings</th>\n",
       "      <th># Faculty Boycotters</th>\n",
       "      <th>FJP (Y/N)</th>\n",
       "      <th>FJP Events &amp; Statements</th>\n",
       "      <th>Depts w/Statements (Y/N)</th>\n",
       "    </tr>\n",
       "  </thead>\n",
       "  <tbody>\n",
       "  </tbody>\n",
       "</table>\n",
       "</div>"
      ],
      "text/plain": [
       "Empty DataFrame\n",
       "Columns: [College/University, School Rankings, # Faculty Boycotters, FJP (Y/N), FJP Events & Statements, Depts w/Statements (Y/N)]\n",
       "Index: []"
      ]
     },
     "execution_count": 16,
     "metadata": {},
     "output_type": "execute_result"
    }
   ],
   "source": [
    "df"
   ]
  },
  {
   "cell_type": "markdown",
   "id": "184cfcb0-bb1a-4169-86d7-301a3bec5d84",
   "metadata": {},
   "source": [
    "Each school in our master list of `schools` will be a row of our dataframe. We move school by school through our master list of `schools`, adding each school's row of data to our dataframe. Once complete, we inspect the the first 5 rows of our dataframe as well as the number of rows in our dataframe, which should be the same as the number of schools in our master list."
   ]
  },
  {
   "cell_type": "code",
   "execution_count": 17,
   "id": "9547fab6-71d8-40bf-968c-a3e8dadfb91e",
   "metadata": {},
   "outputs": [
    {
     "data": {
      "text/html": [
       "<div>\n",
       "<style scoped>\n",
       "    .dataframe tbody tr th:only-of-type {\n",
       "        vertical-align: middle;\n",
       "    }\n",
       "\n",
       "    .dataframe tbody tr th {\n",
       "        vertical-align: top;\n",
       "    }\n",
       "\n",
       "    .dataframe thead th {\n",
       "        text-align: right;\n",
       "    }\n",
       "</style>\n",
       "<table border=\"1\" class=\"dataframe\">\n",
       "  <thead>\n",
       "    <tr style=\"text-align: right;\">\n",
       "      <th></th>\n",
       "      <th>College/University</th>\n",
       "      <th>School Rankings</th>\n",
       "      <th># Faculty Boycotters</th>\n",
       "      <th>FJP (Y/N)</th>\n",
       "      <th>FJP Events &amp; Statements</th>\n",
       "      <th>Depts w/Statements (Y/N)</th>\n",
       "    </tr>\n",
       "  </thead>\n",
       "  <tbody>\n",
       "    <tr>\n",
       "      <th>0</th>\n",
       "      <td>New York University (NYU)</td>\n",
       "      <td>5 - Extreme</td>\n",
       "      <td>123</td>\n",
       "      <td>Yes</td>\n",
       "      <td>44</td>\n",
       "      <td>Yes</td>\n",
       "    </tr>\n",
       "    <tr>\n",
       "      <th>1</th>\n",
       "      <td>University of Minnesota Twin Cities</td>\n",
       "      <td>5 - Extreme</td>\n",
       "      <td>35</td>\n",
       "      <td>Yes</td>\n",
       "      <td>54</td>\n",
       "      <td>Yes</td>\n",
       "    </tr>\n",
       "    <tr>\n",
       "      <th>2</th>\n",
       "      <td>Columbia University/Barnard College</td>\n",
       "      <td>5 - Extreme</td>\n",
       "      <td>72</td>\n",
       "      <td>Yes</td>\n",
       "      <td>27</td>\n",
       "      <td>Yes</td>\n",
       "    </tr>\n",
       "    <tr>\n",
       "      <th>3</th>\n",
       "      <td>University of California Santa Cruz (UCSC)</td>\n",
       "      <td>5 - Extreme</td>\n",
       "      <td>39</td>\n",
       "      <td>Yes</td>\n",
       "      <td>40</td>\n",
       "      <td>Yes</td>\n",
       "    </tr>\n",
       "    <tr>\n",
       "      <th>4</th>\n",
       "      <td>University of Washington</td>\n",
       "      <td>5 - Extreme</td>\n",
       "      <td>76</td>\n",
       "      <td>Yes</td>\n",
       "      <td>21</td>\n",
       "      <td>Yes</td>\n",
       "    </tr>\n",
       "  </tbody>\n",
       "</table>\n",
       "</div>"
      ],
      "text/plain": [
       "                           College/University School Rankings  \\\n",
       "0                   New York University (NYU)     5 - Extreme   \n",
       "1         University of Minnesota Twin Cities     5 - Extreme   \n",
       "2         Columbia University/Barnard College     5 - Extreme   \n",
       "3  University of California Santa Cruz (UCSC)     5 - Extreme   \n",
       "4                    University of Washington     5 - Extreme   \n",
       "\n",
       "  # Faculty Boycotters FJP (Y/N) FJP Events & Statements  \\\n",
       "0                  123       Yes                      44   \n",
       "1                   35       Yes                      54   \n",
       "2                   72       Yes                      27   \n",
       "3                   39       Yes                      40   \n",
       "4                   76       Yes                      21   \n",
       "\n",
       "  Depts w/Statements (Y/N)  \n",
       "0                      Yes  \n",
       "1                      Yes  \n",
       "2                      Yes  \n",
       "3                      Yes  \n",
       "4                      Yes  "
      ]
     },
     "execution_count": 17,
     "metadata": {},
     "output_type": "execute_result"
    }
   ],
   "source": [
    "for school in schools:\n",
    "    length = len(df)\n",
    "\n",
    "    df.loc[length] = school\n",
    "df.head()"
   ]
  },
  {
   "cell_type": "code",
   "execution_count": 18,
   "id": "835bf6a6-b573-461e-a721-f0dc5dd223a2",
   "metadata": {},
   "outputs": [
    {
     "name": "stdout",
     "output_type": "stream",
     "text": [
      "Number of rows in the dataframe: 727\n"
     ]
    }
   ],
   "source": [
    "print(\"Number of rows in the dataframe: \" + str(len(df)))"
   ]
  },
  {
   "cell_type": "markdown",
   "id": "d70cb74c-b5c4-4d53-8f06-e3853810f869",
   "metadata": {},
   "source": [
    "Our dataframe now consists of all 727 school's data in our master list. The first five rows all have a school ranking of '5 - Extreme.' We can inspect the last 5 rows of our dataframe as well."
   ]
  },
  {
   "cell_type": "code",
   "execution_count": 19,
   "id": "6612bb6a-3302-43f8-9440-0ac7751b6c87",
   "metadata": {},
   "outputs": [
    {
     "data": {
      "text/html": [
       "<div>\n",
       "<style scoped>\n",
       "    .dataframe tbody tr th:only-of-type {\n",
       "        vertical-align: middle;\n",
       "    }\n",
       "\n",
       "    .dataframe tbody tr th {\n",
       "        vertical-align: top;\n",
       "    }\n",
       "\n",
       "    .dataframe thead th {\n",
       "        text-align: right;\n",
       "    }\n",
       "</style>\n",
       "<table border=\"1\" class=\"dataframe\">\n",
       "  <thead>\n",
       "    <tr style=\"text-align: right;\">\n",
       "      <th></th>\n",
       "      <th>College/University</th>\n",
       "      <th>School Rankings</th>\n",
       "      <th># Faculty Boycotters</th>\n",
       "      <th>FJP (Y/N)</th>\n",
       "      <th>FJP Events &amp; Statements</th>\n",
       "      <th>Depts w/Statements (Y/N)</th>\n",
       "    </tr>\n",
       "  </thead>\n",
       "  <tbody>\n",
       "    <tr>\n",
       "      <th>722</th>\n",
       "      <td>Xavier University</td>\n",
       "      <td>0 - Negligible</td>\n",
       "      <td>0</td>\n",
       "      <td>No</td>\n",
       "      <td>0</td>\n",
       "      <td>No</td>\n",
       "    </tr>\n",
       "    <tr>\n",
       "      <th>723</th>\n",
       "      <td>Yeshiva University</td>\n",
       "      <td>0 - Negligible</td>\n",
       "      <td>0</td>\n",
       "      <td>No</td>\n",
       "      <td>0</td>\n",
       "      <td>No</td>\n",
       "    </tr>\n",
       "    <tr>\n",
       "      <th>724</th>\n",
       "      <td>Youngstown State University</td>\n",
       "      <td>0 - Negligible</td>\n",
       "      <td>0</td>\n",
       "      <td>No</td>\n",
       "      <td>0</td>\n",
       "      <td>No</td>\n",
       "    </tr>\n",
       "    <tr>\n",
       "      <th>725</th>\n",
       "      <td>Los Angeles Pierce College (Pierce College)</td>\n",
       "      <td>0 - Negligible</td>\n",
       "      <td>0</td>\n",
       "      <td>No</td>\n",
       "      <td>0</td>\n",
       "      <td>No</td>\n",
       "    </tr>\n",
       "    <tr>\n",
       "      <th>726</th>\n",
       "      <td>Washington &amp; Jefferson College</td>\n",
       "      <td>0 - Negligible</td>\n",
       "      <td>1</td>\n",
       "      <td>No</td>\n",
       "      <td></td>\n",
       "      <td>No</td>\n",
       "    </tr>\n",
       "  </tbody>\n",
       "</table>\n",
       "</div>"
      ],
      "text/plain": [
       "                              College/University School Rankings  \\\n",
       "722                            Xavier University  0 - Negligible   \n",
       "723                           Yeshiva University  0 - Negligible   \n",
       "724                  Youngstown State University  0 - Negligible   \n",
       "725  Los Angeles Pierce College (Pierce College)  0 - Negligible   \n",
       "726               Washington & Jefferson College  0 - Negligible   \n",
       "\n",
       "    # Faculty Boycotters FJP (Y/N) FJP Events & Statements  \\\n",
       "722                    0        No                       0   \n",
       "723                    0        No                       0   \n",
       "724                    0        No                       0   \n",
       "725                    0        No                       0   \n",
       "726                    1        No                           \n",
       "\n",
       "    Depts w/Statements (Y/N)  \n",
       "722                       No  \n",
       "723                       No  \n",
       "724                       No  \n",
       "725                       No  \n",
       "726                       No  "
      ]
     },
     "execution_count": 19,
     "metadata": {},
     "output_type": "execute_result"
    }
   ],
   "source": [
    "df.tail()"
   ]
  },
  {
   "cell_type": "markdown",
   "id": "49671d56-cca6-43e0-a19b-744b8679467a",
   "metadata": {},
   "source": [
    "The last five rows all have a school ranking of '0 - Negligible.' It appears our dataframe is in descending order, beginning with schools ranked highest, that is with the highest number of anti-Zionist faculty.\n",
    "\n",
    "Let's view some metadata about our newly constructed dataframe."
   ]
  },
  {
   "cell_type": "code",
   "execution_count": 20,
   "id": "9ef11e0c-22dd-495e-bbfb-daa919739962",
   "metadata": {},
   "outputs": [
    {
     "name": "stdout",
     "output_type": "stream",
     "text": [
      "<class 'pandas.core.frame.DataFrame'>\n",
      "Index: 727 entries, 0 to 726\n",
      "Data columns (total 6 columns):\n",
      " #   Column                    Non-Null Count  Dtype \n",
      "---  ------                    --------------  ----- \n",
      " 0   College/University        727 non-null    object\n",
      " 1   School Rankings           727 non-null    object\n",
      " 2   # Faculty Boycotters      727 non-null    object\n",
      " 3   FJP (Y/N)                 727 non-null    object\n",
      " 4   FJP Events & Statements   727 non-null    object\n",
      " 5   Depts w/Statements (Y/N)  727 non-null    object\n",
      "dtypes: object(6)\n",
      "memory usage: 39.8+ KB\n"
     ]
    }
   ],
   "source": [
    "df.info()"
   ]
  },
  {
   "cell_type": "markdown",
   "id": "35276dd3-3031-46d3-a10d-e95fb4de3224",
   "metadata": {},
   "source": [
    "From the above, we can see that our dataframe has 6 columns (to be expected) and that each column has 727 `non_null` values. This means that all rows have a data point for each one of the columns, and there are no data points missing from our dataframe. Under the column named `Dtype` above (not in our dataframe), the data type of each data point in every column is of type `object`. This will cause problems when we want to do statistics with our data later on. In order to perform mathematical operations on our data, we must convert our data to be of the correct data type.\n",
    "\n",
    "To do this, we will re-structure our data frame by splitting the column `School Rankings` into two separate columns, one with just the number (e.g., 5) and one with just the text (e.g., 'Extreme'). "
   ]
  },
  {
   "cell_type": "code",
   "execution_count": 21,
   "id": "030f99f1-7879-4302-ac57-d20ef6be336e",
   "metadata": {},
   "outputs": [
    {
     "data": {
      "text/html": [
       "<div>\n",
       "<style scoped>\n",
       "    .dataframe tbody tr th:only-of-type {\n",
       "        vertical-align: middle;\n",
       "    }\n",
       "\n",
       "    .dataframe tbody tr th {\n",
       "        vertical-align: top;\n",
       "    }\n",
       "\n",
       "    .dataframe thead th {\n",
       "        text-align: right;\n",
       "    }\n",
       "</style>\n",
       "<table border=\"1\" class=\"dataframe\">\n",
       "  <thead>\n",
       "    <tr style=\"text-align: right;\">\n",
       "      <th></th>\n",
       "      <th>College/University</th>\n",
       "      <th>School Rankings</th>\n",
       "      <th># Faculty Boycotters</th>\n",
       "      <th>FJP (Y/N)</th>\n",
       "      <th>FJP Events &amp; Statements</th>\n",
       "      <th>Depts w/Statements (Y/N)</th>\n",
       "      <th>School Rankings #</th>\n",
       "      <th>School Rankings Text</th>\n",
       "    </tr>\n",
       "  </thead>\n",
       "  <tbody>\n",
       "    <tr>\n",
       "      <th>0</th>\n",
       "      <td>New York University (NYU)</td>\n",
       "      <td>5 - Extreme</td>\n",
       "      <td>123</td>\n",
       "      <td>Yes</td>\n",
       "      <td>44</td>\n",
       "      <td>Yes</td>\n",
       "      <td>5</td>\n",
       "      <td>Extreme</td>\n",
       "    </tr>\n",
       "    <tr>\n",
       "      <th>1</th>\n",
       "      <td>University of Minnesota Twin Cities</td>\n",
       "      <td>5 - Extreme</td>\n",
       "      <td>35</td>\n",
       "      <td>Yes</td>\n",
       "      <td>54</td>\n",
       "      <td>Yes</td>\n",
       "      <td>5</td>\n",
       "      <td>Extreme</td>\n",
       "    </tr>\n",
       "    <tr>\n",
       "      <th>2</th>\n",
       "      <td>Columbia University/Barnard College</td>\n",
       "      <td>5 - Extreme</td>\n",
       "      <td>72</td>\n",
       "      <td>Yes</td>\n",
       "      <td>27</td>\n",
       "      <td>Yes</td>\n",
       "      <td>5</td>\n",
       "      <td>Extreme</td>\n",
       "    </tr>\n",
       "    <tr>\n",
       "      <th>3</th>\n",
       "      <td>University of California Santa Cruz (UCSC)</td>\n",
       "      <td>5 - Extreme</td>\n",
       "      <td>39</td>\n",
       "      <td>Yes</td>\n",
       "      <td>40</td>\n",
       "      <td>Yes</td>\n",
       "      <td>5</td>\n",
       "      <td>Extreme</td>\n",
       "    </tr>\n",
       "    <tr>\n",
       "      <th>4</th>\n",
       "      <td>University of Washington</td>\n",
       "      <td>5 - Extreme</td>\n",
       "      <td>76</td>\n",
       "      <td>Yes</td>\n",
       "      <td>21</td>\n",
       "      <td>Yes</td>\n",
       "      <td>5</td>\n",
       "      <td>Extreme</td>\n",
       "    </tr>\n",
       "  </tbody>\n",
       "</table>\n",
       "</div>"
      ],
      "text/plain": [
       "                           College/University School Rankings  \\\n",
       "0                   New York University (NYU)     5 - Extreme   \n",
       "1         University of Minnesota Twin Cities     5 - Extreme   \n",
       "2         Columbia University/Barnard College     5 - Extreme   \n",
       "3  University of California Santa Cruz (UCSC)     5 - Extreme   \n",
       "4                    University of Washington     5 - Extreme   \n",
       "\n",
       "  # Faculty Boycotters FJP (Y/N) FJP Events & Statements  \\\n",
       "0                  123       Yes                      44   \n",
       "1                   35       Yes                      54   \n",
       "2                   72       Yes                      27   \n",
       "3                   39       Yes                      40   \n",
       "4                   76       Yes                      21   \n",
       "\n",
       "  Depts w/Statements (Y/N)  School Rankings # School Rankings Text  \n",
       "0                      Yes                  5              Extreme  \n",
       "1                      Yes                  5              Extreme  \n",
       "2                      Yes                  5              Extreme  \n",
       "3                      Yes                  5              Extreme  \n",
       "4                      Yes                  5              Extreme  "
      ]
     },
     "execution_count": 21,
     "metadata": {},
     "output_type": "execute_result"
    }
   ],
   "source": [
    "school_rankings = []\n",
    "for ranking in df['School Rankings']:\n",
    "    school_ranking = ranking.split('-')\n",
    "    school_ranking = (int(school_ranking[0].strip()), school_ranking[1].strip())\n",
    "    school_rankings.append(school_ranking)\n",
    "\n",
    "df['School Rankings #'] = [ranking[0] for ranking in school_rankings]\n",
    "df['School Rankings Text'] = [ranking[1] for ranking in school_rankings]\n",
    "df.head()"
   ]
  },
  {
   "cell_type": "markdown",
   "id": "ca103984-1b81-489a-958c-146e7cb91639",
   "metadata": {},
   "source": [
    "From the above, you can see that we have two new columns. Let's view this reformatted dataframe's metadata as well. "
   ]
  },
  {
   "cell_type": "code",
   "execution_count": 22,
   "id": "18b61e39-dc8e-46fc-b50f-250ef702a0fc",
   "metadata": {},
   "outputs": [
    {
     "name": "stdout",
     "output_type": "stream",
     "text": [
      "<class 'pandas.core.frame.DataFrame'>\n",
      "Index: 727 entries, 0 to 726\n",
      "Data columns (total 8 columns):\n",
      " #   Column                    Non-Null Count  Dtype \n",
      "---  ------                    --------------  ----- \n",
      " 0   College/University        727 non-null    object\n",
      " 1   School Rankings           727 non-null    object\n",
      " 2   # Faculty Boycotters      727 non-null    object\n",
      " 3   FJP (Y/N)                 727 non-null    object\n",
      " 4   FJP Events & Statements   727 non-null    object\n",
      " 5   Depts w/Statements (Y/N)  727 non-null    object\n",
      " 6   School Rankings #         727 non-null    int64 \n",
      " 7   School Rankings Text      727 non-null    object\n",
      "dtypes: int64(1), object(7)\n",
      "memory usage: 51.1+ KB\n"
     ]
    }
   ],
   "source": [
    "df.info()"
   ]
  },
  {
   "cell_type": "markdown",
   "id": "d0c629ad-e947-439a-b03d-8a0d951322bd",
   "metadata": {},
   "source": [
    "We can now see that we have 8 columns (instead of 6), as we have successfully added 2 more columns to our dataframe. Furthermore, we can see that one of the new columns `School Rankings #` is of data type `int64`, the data type we need to perform mathematical operations. In fact, we want all columns with numerical data like `# Faculty Boycotters` and `FJP Events & Statements` to also be of type `int64`, so let's convert these columns now, and inspect our dataframe info once more. "
   ]
  },
  {
   "cell_type": "code",
   "execution_count": 24,
   "id": "c2201780-dbaa-43fe-b678-fd45b823c809",
   "metadata": {},
   "outputs": [
    {
     "ename": "ValueError",
     "evalue": "invalid literal for int() with base 10: ''",
     "output_type": "error",
     "traceback": [
      "\u001b[0;31m---------------------------------------------------------------------------\u001b[0m",
      "\u001b[0;31mValueError\u001b[0m                                Traceback (most recent call last)",
      "Cell \u001b[0;32mIn[24], line 2\u001b[0m\n\u001b[1;32m      1\u001b[0m df[\u001b[38;5;124m'\u001b[39m\u001b[38;5;124m# Faculty Boycotters\u001b[39m\u001b[38;5;124m'\u001b[39m] \u001b[38;5;241m=\u001b[39m df[\u001b[38;5;124m'\u001b[39m\u001b[38;5;124m# Faculty Boycotters\u001b[39m\u001b[38;5;124m'\u001b[39m]\u001b[38;5;241m.\u001b[39mastype(\u001b[38;5;28mint\u001b[39m)\n\u001b[0;32m----> 2\u001b[0m df[\u001b[38;5;124m'\u001b[39m\u001b[38;5;124mFJP Events & Statements\u001b[39m\u001b[38;5;124m'\u001b[39m] \u001b[38;5;241m=\u001b[39m \u001b[43mdf\u001b[49m\u001b[43m[\u001b[49m\u001b[38;5;124;43m'\u001b[39;49m\u001b[38;5;124;43mFJP Events & Statements\u001b[39;49m\u001b[38;5;124;43m'\u001b[39;49m\u001b[43m]\u001b[49m\u001b[38;5;241;43m.\u001b[39;49m\u001b[43mastype\u001b[49m\u001b[43m(\u001b[49m\u001b[38;5;28;43mint\u001b[39;49m\u001b[43m)\u001b[49m\n",
      "File \u001b[0;32m~/israel/israel/lib/python3.11/site-packages/pandas/core/generic.py:6643\u001b[0m, in \u001b[0;36mNDFrame.astype\u001b[0;34m(self, dtype, copy, errors)\u001b[0m\n\u001b[1;32m   6637\u001b[0m     results \u001b[38;5;241m=\u001b[39m [\n\u001b[1;32m   6638\u001b[0m         ser\u001b[38;5;241m.\u001b[39mastype(dtype, copy\u001b[38;5;241m=\u001b[39mcopy, errors\u001b[38;5;241m=\u001b[39merrors) \u001b[38;5;28;01mfor\u001b[39;00m _, ser \u001b[38;5;129;01min\u001b[39;00m \u001b[38;5;28mself\u001b[39m\u001b[38;5;241m.\u001b[39mitems()\n\u001b[1;32m   6639\u001b[0m     ]\n\u001b[1;32m   6641\u001b[0m \u001b[38;5;28;01melse\u001b[39;00m:\n\u001b[1;32m   6642\u001b[0m     \u001b[38;5;66;03m# else, only a single dtype is given\u001b[39;00m\n\u001b[0;32m-> 6643\u001b[0m     new_data \u001b[38;5;241m=\u001b[39m \u001b[38;5;28;43mself\u001b[39;49m\u001b[38;5;241;43m.\u001b[39;49m\u001b[43m_mgr\u001b[49m\u001b[38;5;241;43m.\u001b[39;49m\u001b[43mastype\u001b[49m\u001b[43m(\u001b[49m\u001b[43mdtype\u001b[49m\u001b[38;5;241;43m=\u001b[39;49m\u001b[43mdtype\u001b[49m\u001b[43m,\u001b[49m\u001b[43m \u001b[49m\u001b[43mcopy\u001b[49m\u001b[38;5;241;43m=\u001b[39;49m\u001b[43mcopy\u001b[49m\u001b[43m,\u001b[49m\u001b[43m \u001b[49m\u001b[43merrors\u001b[49m\u001b[38;5;241;43m=\u001b[39;49m\u001b[43merrors\u001b[49m\u001b[43m)\u001b[49m\n\u001b[1;32m   6644\u001b[0m     res \u001b[38;5;241m=\u001b[39m \u001b[38;5;28mself\u001b[39m\u001b[38;5;241m.\u001b[39m_constructor_from_mgr(new_data, axes\u001b[38;5;241m=\u001b[39mnew_data\u001b[38;5;241m.\u001b[39maxes)\n\u001b[1;32m   6645\u001b[0m     \u001b[38;5;28;01mreturn\u001b[39;00m res\u001b[38;5;241m.\u001b[39m__finalize__(\u001b[38;5;28mself\u001b[39m, method\u001b[38;5;241m=\u001b[39m\u001b[38;5;124m\"\u001b[39m\u001b[38;5;124mastype\u001b[39m\u001b[38;5;124m\"\u001b[39m)\n",
      "File \u001b[0;32m~/israel/israel/lib/python3.11/site-packages/pandas/core/internals/managers.py:430\u001b[0m, in \u001b[0;36mBaseBlockManager.astype\u001b[0;34m(self, dtype, copy, errors)\u001b[0m\n\u001b[1;32m    427\u001b[0m \u001b[38;5;28;01melif\u001b[39;00m using_copy_on_write():\n\u001b[1;32m    428\u001b[0m     copy \u001b[38;5;241m=\u001b[39m \u001b[38;5;28;01mFalse\u001b[39;00m\n\u001b[0;32m--> 430\u001b[0m \u001b[38;5;28;01mreturn\u001b[39;00m \u001b[38;5;28;43mself\u001b[39;49m\u001b[38;5;241;43m.\u001b[39;49m\u001b[43mapply\u001b[49m\u001b[43m(\u001b[49m\n\u001b[1;32m    431\u001b[0m \u001b[43m    \u001b[49m\u001b[38;5;124;43m\"\u001b[39;49m\u001b[38;5;124;43mastype\u001b[39;49m\u001b[38;5;124;43m\"\u001b[39;49m\u001b[43m,\u001b[49m\n\u001b[1;32m    432\u001b[0m \u001b[43m    \u001b[49m\u001b[43mdtype\u001b[49m\u001b[38;5;241;43m=\u001b[39;49m\u001b[43mdtype\u001b[49m\u001b[43m,\u001b[49m\n\u001b[1;32m    433\u001b[0m \u001b[43m    \u001b[49m\u001b[43mcopy\u001b[49m\u001b[38;5;241;43m=\u001b[39;49m\u001b[43mcopy\u001b[49m\u001b[43m,\u001b[49m\n\u001b[1;32m    434\u001b[0m \u001b[43m    \u001b[49m\u001b[43merrors\u001b[49m\u001b[38;5;241;43m=\u001b[39;49m\u001b[43merrors\u001b[49m\u001b[43m,\u001b[49m\n\u001b[1;32m    435\u001b[0m \u001b[43m    \u001b[49m\u001b[43musing_cow\u001b[49m\u001b[38;5;241;43m=\u001b[39;49m\u001b[43musing_copy_on_write\u001b[49m\u001b[43m(\u001b[49m\u001b[43m)\u001b[49m\u001b[43m,\u001b[49m\n\u001b[1;32m    436\u001b[0m \u001b[43m\u001b[49m\u001b[43m)\u001b[49m\n",
      "File \u001b[0;32m~/israel/israel/lib/python3.11/site-packages/pandas/core/internals/managers.py:363\u001b[0m, in \u001b[0;36mBaseBlockManager.apply\u001b[0;34m(self, f, align_keys, **kwargs)\u001b[0m\n\u001b[1;32m    361\u001b[0m         applied \u001b[38;5;241m=\u001b[39m b\u001b[38;5;241m.\u001b[39mapply(f, \u001b[38;5;241m*\u001b[39m\u001b[38;5;241m*\u001b[39mkwargs)\n\u001b[1;32m    362\u001b[0m     \u001b[38;5;28;01melse\u001b[39;00m:\n\u001b[0;32m--> 363\u001b[0m         applied \u001b[38;5;241m=\u001b[39m \u001b[38;5;28;43mgetattr\u001b[39;49m\u001b[43m(\u001b[49m\u001b[43mb\u001b[49m\u001b[43m,\u001b[49m\u001b[43m \u001b[49m\u001b[43mf\u001b[49m\u001b[43m)\u001b[49m\u001b[43m(\u001b[49m\u001b[38;5;241;43m*\u001b[39;49m\u001b[38;5;241;43m*\u001b[39;49m\u001b[43mkwargs\u001b[49m\u001b[43m)\u001b[49m\n\u001b[1;32m    364\u001b[0m     result_blocks \u001b[38;5;241m=\u001b[39m extend_blocks(applied, result_blocks)\n\u001b[1;32m    366\u001b[0m out \u001b[38;5;241m=\u001b[39m \u001b[38;5;28mtype\u001b[39m(\u001b[38;5;28mself\u001b[39m)\u001b[38;5;241m.\u001b[39mfrom_blocks(result_blocks, \u001b[38;5;28mself\u001b[39m\u001b[38;5;241m.\u001b[39maxes)\n",
      "File \u001b[0;32m~/israel/israel/lib/python3.11/site-packages/pandas/core/internals/blocks.py:758\u001b[0m, in \u001b[0;36mBlock.astype\u001b[0;34m(self, dtype, copy, errors, using_cow, squeeze)\u001b[0m\n\u001b[1;32m    755\u001b[0m         \u001b[38;5;28;01mraise\u001b[39;00m \u001b[38;5;167;01mValueError\u001b[39;00m(\u001b[38;5;124m\"\u001b[39m\u001b[38;5;124mCan not squeeze with more than one column.\u001b[39m\u001b[38;5;124m\"\u001b[39m)\n\u001b[1;32m    756\u001b[0m     values \u001b[38;5;241m=\u001b[39m values[\u001b[38;5;241m0\u001b[39m, :]  \u001b[38;5;66;03m# type: ignore[call-overload]\u001b[39;00m\n\u001b[0;32m--> 758\u001b[0m new_values \u001b[38;5;241m=\u001b[39m \u001b[43mastype_array_safe\u001b[49m\u001b[43m(\u001b[49m\u001b[43mvalues\u001b[49m\u001b[43m,\u001b[49m\u001b[43m \u001b[49m\u001b[43mdtype\u001b[49m\u001b[43m,\u001b[49m\u001b[43m \u001b[49m\u001b[43mcopy\u001b[49m\u001b[38;5;241;43m=\u001b[39;49m\u001b[43mcopy\u001b[49m\u001b[43m,\u001b[49m\u001b[43m \u001b[49m\u001b[43merrors\u001b[49m\u001b[38;5;241;43m=\u001b[39;49m\u001b[43merrors\u001b[49m\u001b[43m)\u001b[49m\n\u001b[1;32m    760\u001b[0m new_values \u001b[38;5;241m=\u001b[39m maybe_coerce_values(new_values)\n\u001b[1;32m    762\u001b[0m refs \u001b[38;5;241m=\u001b[39m \u001b[38;5;28;01mNone\u001b[39;00m\n",
      "File \u001b[0;32m~/israel/israel/lib/python3.11/site-packages/pandas/core/dtypes/astype.py:237\u001b[0m, in \u001b[0;36mastype_array_safe\u001b[0;34m(values, dtype, copy, errors)\u001b[0m\n\u001b[1;32m    234\u001b[0m     dtype \u001b[38;5;241m=\u001b[39m dtype\u001b[38;5;241m.\u001b[39mnumpy_dtype\n\u001b[1;32m    236\u001b[0m \u001b[38;5;28;01mtry\u001b[39;00m:\n\u001b[0;32m--> 237\u001b[0m     new_values \u001b[38;5;241m=\u001b[39m \u001b[43mastype_array\u001b[49m\u001b[43m(\u001b[49m\u001b[43mvalues\u001b[49m\u001b[43m,\u001b[49m\u001b[43m \u001b[49m\u001b[43mdtype\u001b[49m\u001b[43m,\u001b[49m\u001b[43m \u001b[49m\u001b[43mcopy\u001b[49m\u001b[38;5;241;43m=\u001b[39;49m\u001b[43mcopy\u001b[49m\u001b[43m)\u001b[49m\n\u001b[1;32m    238\u001b[0m \u001b[38;5;28;01mexcept\u001b[39;00m (\u001b[38;5;167;01mValueError\u001b[39;00m, \u001b[38;5;167;01mTypeError\u001b[39;00m):\n\u001b[1;32m    239\u001b[0m     \u001b[38;5;66;03m# e.g. _astype_nansafe can fail on object-dtype of strings\u001b[39;00m\n\u001b[1;32m    240\u001b[0m     \u001b[38;5;66;03m#  trying to convert to float\u001b[39;00m\n\u001b[1;32m    241\u001b[0m     \u001b[38;5;28;01mif\u001b[39;00m errors \u001b[38;5;241m==\u001b[39m \u001b[38;5;124m\"\u001b[39m\u001b[38;5;124mignore\u001b[39m\u001b[38;5;124m\"\u001b[39m:\n",
      "File \u001b[0;32m~/israel/israel/lib/python3.11/site-packages/pandas/core/dtypes/astype.py:182\u001b[0m, in \u001b[0;36mastype_array\u001b[0;34m(values, dtype, copy)\u001b[0m\n\u001b[1;32m    179\u001b[0m     values \u001b[38;5;241m=\u001b[39m values\u001b[38;5;241m.\u001b[39mastype(dtype, copy\u001b[38;5;241m=\u001b[39mcopy)\n\u001b[1;32m    181\u001b[0m \u001b[38;5;28;01melse\u001b[39;00m:\n\u001b[0;32m--> 182\u001b[0m     values \u001b[38;5;241m=\u001b[39m \u001b[43m_astype_nansafe\u001b[49m\u001b[43m(\u001b[49m\u001b[43mvalues\u001b[49m\u001b[43m,\u001b[49m\u001b[43m \u001b[49m\u001b[43mdtype\u001b[49m\u001b[43m,\u001b[49m\u001b[43m \u001b[49m\u001b[43mcopy\u001b[49m\u001b[38;5;241;43m=\u001b[39;49m\u001b[43mcopy\u001b[49m\u001b[43m)\u001b[49m\n\u001b[1;32m    184\u001b[0m \u001b[38;5;66;03m# in pandas we don't store numpy str dtypes, so convert to object\u001b[39;00m\n\u001b[1;32m    185\u001b[0m \u001b[38;5;28;01mif\u001b[39;00m \u001b[38;5;28misinstance\u001b[39m(dtype, np\u001b[38;5;241m.\u001b[39mdtype) \u001b[38;5;129;01mand\u001b[39;00m \u001b[38;5;28missubclass\u001b[39m(values\u001b[38;5;241m.\u001b[39mdtype\u001b[38;5;241m.\u001b[39mtype, \u001b[38;5;28mstr\u001b[39m):\n",
      "File \u001b[0;32m~/israel/israel/lib/python3.11/site-packages/pandas/core/dtypes/astype.py:133\u001b[0m, in \u001b[0;36m_astype_nansafe\u001b[0;34m(arr, dtype, copy, skipna)\u001b[0m\n\u001b[1;32m    129\u001b[0m     \u001b[38;5;28;01mraise\u001b[39;00m \u001b[38;5;167;01mValueError\u001b[39;00m(msg)\n\u001b[1;32m    131\u001b[0m \u001b[38;5;28;01mif\u001b[39;00m copy \u001b[38;5;129;01mor\u001b[39;00m arr\u001b[38;5;241m.\u001b[39mdtype \u001b[38;5;241m==\u001b[39m \u001b[38;5;28mobject\u001b[39m \u001b[38;5;129;01mor\u001b[39;00m dtype \u001b[38;5;241m==\u001b[39m \u001b[38;5;28mobject\u001b[39m:\n\u001b[1;32m    132\u001b[0m     \u001b[38;5;66;03m# Explicit copy, or required since NumPy can't view from / to object.\u001b[39;00m\n\u001b[0;32m--> 133\u001b[0m     \u001b[38;5;28;01mreturn\u001b[39;00m \u001b[43marr\u001b[49m\u001b[38;5;241;43m.\u001b[39;49m\u001b[43mastype\u001b[49m\u001b[43m(\u001b[49m\u001b[43mdtype\u001b[49m\u001b[43m,\u001b[49m\u001b[43m \u001b[49m\u001b[43mcopy\u001b[49m\u001b[38;5;241;43m=\u001b[39;49m\u001b[38;5;28;43;01mTrue\u001b[39;49;00m\u001b[43m)\u001b[49m\n\u001b[1;32m    135\u001b[0m \u001b[38;5;28;01mreturn\u001b[39;00m arr\u001b[38;5;241m.\u001b[39mastype(dtype, copy\u001b[38;5;241m=\u001b[39mcopy)\n",
      "\u001b[0;31mValueError\u001b[0m: invalid literal for int() with base 10: ''"
     ]
    }
   ],
   "source": [
    "df['# Faculty Boycotters'] = df['# Faculty Boycotters'].astype(int)\n",
    "df['FJP Events & Statements'] = df['FJP Events & Statements'].astype(int)"
   ]
  },
  {
   "cell_type": "markdown",
   "id": "d01fafb7-a762-4259-8de2-cdfa4ce62fe8",
   "metadata": {},
   "source": [
    "Uh-oh. We received an error. The error message above tells us that the column `FJP Events & Statements` contains non-numeric values, such as empty strings (''), which cannot be converted to type `int64`. To solve this, we can create a new dataframe with rows which contain only numeric values in this column (i.e., no empty values)."
   ]
  },
  {
   "cell_type": "code",
   "execution_count": 25,
   "id": "62a117b0-9386-4f02-99ce-b724b249a345",
   "metadata": {},
   "outputs": [
    {
     "name": "stdout",
     "output_type": "stream",
     "text": [
      "<class 'pandas.core.frame.DataFrame'>\n",
      "Index: 726 entries, 0 to 725\n",
      "Data columns (total 8 columns):\n",
      " #   Column                    Non-Null Count  Dtype \n",
      "---  ------                    --------------  ----- \n",
      " 0   College/University        726 non-null    object\n",
      " 1   School Rankings           726 non-null    object\n",
      " 2   # Faculty Boycotters      726 non-null    int64 \n",
      " 3   FJP (Y/N)                 726 non-null    object\n",
      " 4   FJP Events & Statements   726 non-null    int64 \n",
      " 5   Depts w/Statements (Y/N)  726 non-null    object\n",
      " 6   School Rankings #         726 non-null    int64 \n",
      " 7   School Rankings Text      726 non-null    object\n",
      "dtypes: int64(3), object(5)\n",
      "memory usage: 51.0+ KB\n"
     ]
    }
   ],
   "source": [
    "filtered_df = df[df['FJP Events & Statements'].apply(lambda x: str(x).isdigit())].copy()\n",
    "filtered_df['FJP Events & Statements'] = filtered_df['FJP Events & Statements'].astype(int)\n",
    "filtered_df.info()"
   ]
  },
  {
   "cell_type": "markdown",
   "id": "17cf625f-c1ba-4824-ad95-2d6353f22e0e",
   "metadata": {},
   "source": [
    "Viola. We now have a new filtered dataframe `filtered_df`, where the offending row has been excluded. As you can see, we now have 726 entries. Our data is now ready to do statistics. \n",
    "\n",
    "We can use `describe()` to see the `count`, `mean`, `standard deviation`, `minimum`, `quartiles`, and `maximum` of each column with numerical data."
   ]
  },
  {
   "cell_type": "code",
   "execution_count": 26,
   "id": "c93321d7-5c1b-45cf-864a-04ad02bef295",
   "metadata": {},
   "outputs": [
    {
     "data": {
      "text/html": [
       "<div>\n",
       "<style scoped>\n",
       "    .dataframe tbody tr th:only-of-type {\n",
       "        vertical-align: middle;\n",
       "    }\n",
       "\n",
       "    .dataframe tbody tr th {\n",
       "        vertical-align: top;\n",
       "    }\n",
       "\n",
       "    .dataframe thead th {\n",
       "        text-align: right;\n",
       "    }\n",
       "</style>\n",
       "<table border=\"1\" class=\"dataframe\">\n",
       "  <thead>\n",
       "    <tr style=\"text-align: right;\">\n",
       "      <th></th>\n",
       "      <th># Faculty Boycotters</th>\n",
       "      <th>FJP Events &amp; Statements</th>\n",
       "      <th>School Rankings #</th>\n",
       "    </tr>\n",
       "  </thead>\n",
       "  <tbody>\n",
       "    <tr>\n",
       "      <th>count</th>\n",
       "      <td>726.000000</td>\n",
       "      <td>726.000000</td>\n",
       "      <td>726.000000</td>\n",
       "    </tr>\n",
       "    <tr>\n",
       "      <th>mean</th>\n",
       "      <td>6.286501</td>\n",
       "      <td>2.286501</td>\n",
       "      <td>0.902204</td>\n",
       "    </tr>\n",
       "    <tr>\n",
       "      <th>std</th>\n",
       "      <td>16.145391</td>\n",
       "      <td>6.452202</td>\n",
       "      <td>1.470659</td>\n",
       "    </tr>\n",
       "    <tr>\n",
       "      <th>min</th>\n",
       "      <td>0.000000</td>\n",
       "      <td>0.000000</td>\n",
       "      <td>0.000000</td>\n",
       "    </tr>\n",
       "    <tr>\n",
       "      <th>25%</th>\n",
       "      <td>0.000000</td>\n",
       "      <td>0.000000</td>\n",
       "      <td>0.000000</td>\n",
       "    </tr>\n",
       "    <tr>\n",
       "      <th>50%</th>\n",
       "      <td>1.000000</td>\n",
       "      <td>0.000000</td>\n",
       "      <td>0.000000</td>\n",
       "    </tr>\n",
       "    <tr>\n",
       "      <th>75%</th>\n",
       "      <td>4.000000</td>\n",
       "      <td>0.000000</td>\n",
       "      <td>2.000000</td>\n",
       "    </tr>\n",
       "    <tr>\n",
       "      <th>max</th>\n",
       "      <td>184.000000</td>\n",
       "      <td>54.000000</td>\n",
       "      <td>5.000000</td>\n",
       "    </tr>\n",
       "  </tbody>\n",
       "</table>\n",
       "</div>"
      ],
      "text/plain": [
       "       # Faculty Boycotters  FJP Events & Statements  School Rankings #\n",
       "count            726.000000               726.000000         726.000000\n",
       "mean               6.286501                 2.286501           0.902204\n",
       "std               16.145391                 6.452202           1.470659\n",
       "min                0.000000                 0.000000           0.000000\n",
       "25%                0.000000                 0.000000           0.000000\n",
       "50%                1.000000                 0.000000           0.000000\n",
       "75%                4.000000                 0.000000           2.000000\n",
       "max              184.000000                54.000000           5.000000"
      ]
     },
     "execution_count": 26,
     "metadata": {},
     "output_type": "execute_result"
    }
   ],
   "source": [
    "filtered_df.describe()"
   ]
  },
  {
   "cell_type": "markdown",
   "id": "21293dc9-2a96-472a-bc99-f44e617a6dc9",
   "metadata": {},
   "source": [
    "We can also see what the top 10 universities with the most faculty boycotters are."
   ]
  },
  {
   "cell_type": "code",
   "execution_count": 27,
   "id": "5f603e6c-78cd-44b3-aacd-57daa245be9a",
   "metadata": {},
   "outputs": [
    {
     "data": {
      "text/html": [
       "<div>\n",
       "<style scoped>\n",
       "    .dataframe tbody tr th:only-of-type {\n",
       "        vertical-align: middle;\n",
       "    }\n",
       "\n",
       "    .dataframe tbody tr th {\n",
       "        vertical-align: top;\n",
       "    }\n",
       "\n",
       "    .dataframe thead th {\n",
       "        text-align: right;\n",
       "    }\n",
       "</style>\n",
       "<table border=\"1\" class=\"dataframe\">\n",
       "  <thead>\n",
       "    <tr style=\"text-align: right;\">\n",
       "      <th></th>\n",
       "      <th>College/University</th>\n",
       "      <th>School Rankings</th>\n",
       "      <th># Faculty Boycotters</th>\n",
       "      <th>FJP (Y/N)</th>\n",
       "      <th>FJP Events &amp; Statements</th>\n",
       "      <th>Depts w/Statements (Y/N)</th>\n",
       "      <th>School Rankings #</th>\n",
       "      <th>School Rankings Text</th>\n",
       "    </tr>\n",
       "  </thead>\n",
       "  <tbody>\n",
       "    <tr>\n",
       "      <th>104</th>\n",
       "      <td>California State Polytechnic University, Humbo...</td>\n",
       "      <td>3 - Significant</td>\n",
       "      <td>184</td>\n",
       "      <td>Yes</td>\n",
       "      <td>1</td>\n",
       "      <td>No</td>\n",
       "      <td>3</td>\n",
       "      <td>Significant</td>\n",
       "    </tr>\n",
       "    <tr>\n",
       "      <th>67</th>\n",
       "      <td>Harvard University</td>\n",
       "      <td>3 - Significant</td>\n",
       "      <td>152</td>\n",
       "      <td>Yes</td>\n",
       "      <td>8</td>\n",
       "      <td>No</td>\n",
       "      <td>3</td>\n",
       "      <td>Significant</td>\n",
       "    </tr>\n",
       "    <tr>\n",
       "      <th>0</th>\n",
       "      <td>New York University (NYU)</td>\n",
       "      <td>5 - Extreme</td>\n",
       "      <td>123</td>\n",
       "      <td>Yes</td>\n",
       "      <td>44</td>\n",
       "      <td>Yes</td>\n",
       "      <td>5</td>\n",
       "      <td>Extreme</td>\n",
       "    </tr>\n",
       "    <tr>\n",
       "      <th>63</th>\n",
       "      <td>Pratt Institute</td>\n",
       "      <td>3 - Significant</td>\n",
       "      <td>105</td>\n",
       "      <td>Yes</td>\n",
       "      <td>13</td>\n",
       "      <td>No</td>\n",
       "      <td>3</td>\n",
       "      <td>Significant</td>\n",
       "    </tr>\n",
       "    <tr>\n",
       "      <th>40</th>\n",
       "      <td>Brown University</td>\n",
       "      <td>4 - Severe</td>\n",
       "      <td>104</td>\n",
       "      <td>Yes</td>\n",
       "      <td>2</td>\n",
       "      <td>Yes</td>\n",
       "      <td>4</td>\n",
       "      <td>Severe</td>\n",
       "    </tr>\n",
       "    <tr>\n",
       "      <th>10</th>\n",
       "      <td>Rutgers University - New Brunswick</td>\n",
       "      <td>5 - Extreme</td>\n",
       "      <td>96</td>\n",
       "      <td>Yes</td>\n",
       "      <td>14</td>\n",
       "      <td>Yes</td>\n",
       "      <td>5</td>\n",
       "      <td>Extreme</td>\n",
       "    </tr>\n",
       "    <tr>\n",
       "      <th>221</th>\n",
       "      <td>Western Washington University</td>\n",
       "      <td>1 - Minimal</td>\n",
       "      <td>87</td>\n",
       "      <td>No</td>\n",
       "      <td>0</td>\n",
       "      <td>No</td>\n",
       "      <td>1</td>\n",
       "      <td>Minimal</td>\n",
       "    </tr>\n",
       "    <tr>\n",
       "      <th>6</th>\n",
       "      <td>University of California Los Angeles (UCLA)</td>\n",
       "      <td>5 - Extreme</td>\n",
       "      <td>86</td>\n",
       "      <td>Yes</td>\n",
       "      <td>18</td>\n",
       "      <td>Yes</td>\n",
       "      <td>5</td>\n",
       "      <td>Extreme</td>\n",
       "    </tr>\n",
       "    <tr>\n",
       "      <th>4</th>\n",
       "      <td>University of Washington</td>\n",
       "      <td>5 - Extreme</td>\n",
       "      <td>76</td>\n",
       "      <td>Yes</td>\n",
       "      <td>21</td>\n",
       "      <td>Yes</td>\n",
       "      <td>5</td>\n",
       "      <td>Extreme</td>\n",
       "    </tr>\n",
       "    <tr>\n",
       "      <th>17</th>\n",
       "      <td>Northwestern University</td>\n",
       "      <td>5 - Extreme</td>\n",
       "      <td>76</td>\n",
       "      <td>Yes</td>\n",
       "      <td>10</td>\n",
       "      <td>Yes</td>\n",
       "      <td>5</td>\n",
       "      <td>Extreme</td>\n",
       "    </tr>\n",
       "  </tbody>\n",
       "</table>\n",
       "</div>"
      ],
      "text/plain": [
       "                                    College/University  School Rankings  \\\n",
       "104  California State Polytechnic University, Humbo...  3 - Significant   \n",
       "67                                  Harvard University  3 - Significant   \n",
       "0                            New York University (NYU)      5 - Extreme   \n",
       "63                                     Pratt Institute  3 - Significant   \n",
       "40                                    Brown University       4 - Severe   \n",
       "10                  Rutgers University - New Brunswick      5 - Extreme   \n",
       "221                      Western Washington University      1 - Minimal   \n",
       "6          University of California Los Angeles (UCLA)      5 - Extreme   \n",
       "4                             University of Washington      5 - Extreme   \n",
       "17                             Northwestern University      5 - Extreme   \n",
       "\n",
       "     # Faculty Boycotters FJP (Y/N) FJP Events & Statements  \\\n",
       "104                   184       Yes                       1   \n",
       "67                    152       Yes                       8   \n",
       "0                     123       Yes                      44   \n",
       "63                    105       Yes                      13   \n",
       "40                    104       Yes                       2   \n",
       "10                     96       Yes                      14   \n",
       "221                    87        No                       0   \n",
       "6                      86       Yes                      18   \n",
       "4                      76       Yes                      21   \n",
       "17                     76       Yes                      10   \n",
       "\n",
       "    Depts w/Statements (Y/N)  School Rankings # School Rankings Text  \n",
       "104                       No                  3          Significant  \n",
       "67                        No                  3          Significant  \n",
       "0                        Yes                  5              Extreme  \n",
       "63                        No                  3          Significant  \n",
       "40                       Yes                  4               Severe  \n",
       "10                       Yes                  5              Extreme  \n",
       "221                       No                  1              Minimal  \n",
       "6                        Yes                  5              Extreme  \n",
       "4                        Yes                  5              Extreme  \n",
       "17                       Yes                  5              Extreme  "
      ]
     },
     "execution_count": 27,
     "metadata": {},
     "output_type": "execute_result"
    }
   ],
   "source": [
    "ten_most_boycotters = df.sort_values(by='# Faculty Boycotters', ascending=False)\n",
    "ten_most_boycotters.head(10)"
   ]
  },
  {
   "cell_type": "markdown",
   "id": "e6ecc2fd-cc3f-4663-8a06-e6100af295f3",
   "metadata": {},
   "source": [
    "This is interesting. Most of these schools have a ranking of 3 or greater, with one exception. Western Washington University has a large number of faculty boycotters but a minimal ranking, suggesting that `# Faculty Boycotters` alone does not result in a high ranking. In fact, they are the one university of the ten above without its own FJP chapter. \n",
    "\n",
    "Let's see how many American colleges in total have an FJP chapter."
   ]
  },
  {
   "cell_type": "code",
   "execution_count": 28,
   "id": "1ade2dfe-890e-4e8a-83ed-80c6c597acdc",
   "metadata": {},
   "outputs": [
    {
     "data": {
      "text/plain": [
       "FJP (Y/N)\n",
       "No     546\n",
       "Yes    181\n",
       "Name: count, dtype: int64"
      ]
     },
     "execution_count": 28,
     "metadata": {},
     "output_type": "execute_result"
    }
   ],
   "source": [
    "fjp_counts = df['FJP (Y/N)'].value_counts()\n",
    "fjp_counts"
   ]
  },
  {
   "cell_type": "markdown",
   "id": "25f2ffa6-25dc-4ce1-ba40-eaad60eee865",
   "metadata": {},
   "source": [
    "The AMCHA Initiative website states there are over 170 chapters across the U.S. There appear to be even more today. "
   ]
  },
  {
   "cell_type": "markdown",
   "id": "c35bbd04-01e6-4224-8ace-cf4b8197a70f",
   "metadata": {},
   "source": [
    "## Data analysis and visualization"
   ]
  },
  {
   "cell_type": "markdown",
   "id": "a0e83947-2236-4e65-9238-d30ee4f45e84",
   "metadata": {},
   "source": [
    "Another thing we might be interested in is the number of schools that have each ranking (0-5). We display this information below."
   ]
  },
  {
   "cell_type": "code",
   "execution_count": 29,
   "id": "fb8b1765-b441-479c-a3e9-d2828cb73753",
   "metadata": {},
   "outputs": [
    {
     "name": "stdout",
     "output_type": "stream",
     "text": [
      "School Rankings #\n",
      "0    486\n",
      "1     42\n",
      "2     77\n",
      "3     59\n",
      "4     33\n",
      "5     30\n",
      "Name: count, dtype: int64\n"
     ]
    }
   ],
   "source": [
    "ranking_counts = df['School Rankings #'].value_counts().sort_index()\n",
    "print(ranking_counts)"
   ]
  },
  {
   "cell_type": "markdown",
   "id": "009e2f89-b69c-4ad4-998a-32e493201c5d",
   "metadata": {},
   "source": [
    "As we can see, there are 486 schools with a ranking of 0 ('Negligible'), 42 with a ranking of 1 ('Minimal'), and so on and so forth. \n",
    "\n",
    "We can also visualize this information in a bar chart."
   ]
  },
  {
   "cell_type": "code",
   "execution_count": 30,
   "id": "a43ffac7-3857-44a2-9a10-b2ebd07dde31",
   "metadata": {},
   "outputs": [],
   "source": [
    "import matplotlib.pyplot as plt"
   ]
  },
  {
   "cell_type": "code",
   "execution_count": 31,
   "id": "f1b462b5-0bee-4c38-a5cd-cc534e0dfe49",
   "metadata": {},
   "outputs": [
    {
     "data": {
      "image/png": "[encoded data removed]",
      "text/plain": [
       "<Figure size 640x480 with 1 Axes>"
      ]
     },
     "metadata": {},
     "output_type": "display_data"
    }
   ],
   "source": [
    "plt.bar(ranking_counts.index, ranking_counts.values)\n",
    "plt.xlabel('Ranking')\n",
    "plt.ylabel('Count')\n",
    "plt.title('School Rankings')\n",
    "plt.show()"
   ]
  },
  {
   "cell_type": "markdown",
   "id": "3ccaab26-c3e7-40fb-bf03-56b78688fc4a",
   "metadata": {},
   "source": [
    "This looks nice. However, we might want the colors of each bar in the chart to match the colors used on the actual webpage for each ranking, e.g., red for 5, green for 0, etc.\n",
    "\n",
    "We will obtain this information from the HTML as before. We are interested in all data points that have styling information, in particular ones with a `background-color`."
   ]
  },
  {
   "cell_type": "code",
   "execution_count": 32,
   "id": "411e45b5-c6de-45dc-b1be-eadda02b0a56",
   "metadata": {},
   "outputs": [
    {
     "data": {
      "text/plain": [
       "<td class=\"field_294 cell-edit\" data-column-index=\"1\" data-field-key=\"field_294\" style=\"text-align: center; background-color:#c30b01; font-weight: bold; color:#ffffff; \"><span class=\"col-1\">\n",
       "5 - Extreme\n",
       "  </span></td>"
      ]
     },
     "execution_count": 32,
     "metadata": {},
     "output_type": "execute_result"
    }
   ],
   "source": [
    "td_tags = soup.find_all('td', style=True)\n",
    "td_tags[1]"
   ]
  },
  {
   "cell_type": "markdown",
   "id": "7d4020d1-1e9f-4e1a-ae89-b9b6ae2097e1",
   "metadata": {},
   "source": [
    "We can extract all the background colors we need with the following code below: "
   ]
  },
  {
   "cell_type": "code",
   "execution_count": 33,
   "id": "9346ddf2-f5d4-4fa3-9d88-f75a43052997",
   "metadata": {},
   "outputs": [
    {
     "name": "stdout",
     "output_type": "stream",
     "text": [
      "['#99ba00', '#d4d200', '#eada00', '#deaf00', '#d96700', '#c30b01']\n"
     ]
    }
   ],
   "source": [
    "background_colors = []\n",
    "for td in td_tags:\n",
    "    styles = td['style']\n",
    "    styles = styles.split(';')\n",
    "    for style in styles:\n",
    "        if 'background-color' in style:\n",
    "            background_color = style.split(':')[1]\n",
    "            if background_color not in background_colors:\n",
    "                background_colors.append(background_color)\n",
    "\n",
    "background_colors.reverse()\n",
    "print(background_colors)"
   ]
  },
  {
   "cell_type": "markdown",
   "id": "1966a3a9-96f4-4d70-b0cd-2b4c98156371",
   "metadata": {},
   "source": [
    "We now have a list of all hex color codes used in the table of our webpage. We can use this list of `background_colors` to re-create our bar chart. "
   ]
  },
  {
   "cell_type": "code",
   "execution_count": 34,
   "id": "0d0d8fde-58f8-411c-8f81-2e82881a0916",
   "metadata": {},
   "outputs": [
    {
     "data": {
      "image/png": "[encoded data removed]",
      "text/plain": [
       "<Figure size 640x480 with 1 Axes>"
      ]
     },
     "metadata": {},
     "output_type": "display_data"
    }
   ],
   "source": [
    "plt.bar(ranking_counts.index, ranking_counts.values, color=background_colors)\n",
    "plt.xlabel('Ranking')\n",
    "plt.ylabel('Count')\n",
    "plt.title('School Rankings')\n",
    "plt.show()"
   ]
  },
  {
   "cell_type": "markdown",
   "id": "09b76732-e54b-493f-9efd-68c0f2213cba",
   "metadata": {},
   "source": [
    "We can also display our data with the highest (worst) rank on the left, and the lowest (best) rank on the right. This feels more in line with the order of data on the actual webpage, with higher (worst) ranks at the top and lower (best) ranks at the bottom. "
   ]
  },
  {
   "cell_type": "code",
   "execution_count": 35,
   "id": "a79a0ba2-67bd-4428-97c4-e1353b0e6e0b",
   "metadata": {},
   "outputs": [
    {
     "data": {
      "image/png": "[encoded data removed]",
      "text/plain": [
       "<Figure size 640x480 with 1 Axes>"
      ]
     },
     "metadata": {},
     "output_type": "display_data"
    }
   ],
   "source": [
    "plt.bar(ranking_counts.index, ranking_counts.values, color=background_colors)\n",
    "plt.gca().invert_xaxis()  # Reverse the x-axis\n",
    "plt.xlabel('Ranking')\n",
    "plt.ylabel('Count')\n",
    "plt.title('School Rankings')\n",
    "plt.show()\n"
   ]
  },
  {
   "cell_type": "markdown",
   "id": "b5e9707c-c9dc-46d0-beba-6de81e345469",
   "metadata": {},
   "source": [
    "From this chart, we can see the distribution of schools organized by school ranking. It appears that the majority of schools have a favorable 0/\"Negligible\" ranking."
   ]
  },
  {
   "cell_type": "markdown",
   "id": "4f165b5e-1af1-4827-88e4-7193cab1184f",
   "metadata": {},
   "source": [
    "We might also be interested in exploring the presence of anti-Zionist faculty in a particular state, e.g., Florida. A simple way we can do this is by extracting all schools with the word 'Florida' (for instance) from our dataframe. (Indeed, there are better methods, as this will potentially leave out schools that do not have the state's name in them). To do so, we create a new dataframe `florida` with the same column header names, but this time we only add rows with the word 'Florida' in column `College/University`. We do this below, and then inspect the dataframe. "
   ]
  },
  {
   "cell_type": "code",
   "execution_count": 36,
   "id": "11cbc5a1-2bbf-44f9-ab7b-732318aae473",
   "metadata": {},
   "outputs": [
    {
     "data": {
      "text/html": [
       "<div>\n",
       "<style scoped>\n",
       "    .dataframe tbody tr th:only-of-type {\n",
       "        vertical-align: middle;\n",
       "    }\n",
       "\n",
       "    .dataframe tbody tr th {\n",
       "        vertical-align: top;\n",
       "    }\n",
       "\n",
       "    .dataframe thead th {\n",
       "        text-align: right;\n",
       "    }\n",
       "</style>\n",
       "<table border=\"1\" class=\"dataframe\">\n",
       "  <thead>\n",
       "    <tr style=\"text-align: right;\">\n",
       "      <th></th>\n",
       "      <th>College/University</th>\n",
       "      <th>School Rankings</th>\n",
       "      <th># Faculty Boycotters</th>\n",
       "      <th>FJP (Y/N)</th>\n",
       "      <th>FJP Events &amp; Statements</th>\n",
       "      <th>Depts w/Statements (Y/N)</th>\n",
       "      <th>School Rankings #</th>\n",
       "      <th>School Rankings Text</th>\n",
       "    </tr>\n",
       "  </thead>\n",
       "  <tbody>\n",
       "  </tbody>\n",
       "</table>\n",
       "</div>"
      ],
      "text/plain": [
       "Empty DataFrame\n",
       "Columns: [College/University, School Rankings, # Faculty Boycotters, FJP (Y/N), FJP Events & Statements, Depts w/Statements (Y/N), School Rankings #, School Rankings Text]\n",
       "Index: []"
      ]
     },
     "execution_count": 36,
     "metadata": {},
     "output_type": "execute_result"
    }
   ],
   "source": [
    "florida = pd.DataFrame(columns=df.columns)\n",
    "florida"
   ]
  },
  {
   "cell_type": "code",
   "execution_count": 37,
   "id": "0dd77b29-94f8-47bf-ac04-6c69fa438475",
   "metadata": {},
   "outputs": [],
   "source": [
    "for index, row in df.iterrows():\n",
    "    if 'Florida' in row['College/University']:\n",
    "        length = len(florida)\n",
    "        florida.loc[length] = row"
   ]
  },
  {
   "cell_type": "code",
   "execution_count": 38,
   "id": "93c39a19-3ad9-4532-a943-ebb8e1d6f0ce",
   "metadata": {},
   "outputs": [
    {
     "data": {
      "text/plain": [
       "School Rankings #\n",
       "0    11\n",
       "1     1\n",
       "2     0\n",
       "3     1\n",
       "4     0\n",
       "5     0\n",
       "Name: count, dtype: int64"
      ]
     },
     "execution_count": 38,
     "metadata": {},
     "output_type": "execute_result"
    }
   ],
   "source": [
    "florida_ranking_counts = florida['School Rankings #'].value_counts().sort_index()\n",
    "all_ranks = range(0,6)  # Full range of ranks\n",
    "florida_ranking_counts = florida_ranking_counts.reindex(all_ranks, fill_value=0)  # Fill missing ranks with 0\n",
    "florida_ranking_counts"
   ]
  },
  {
   "cell_type": "code",
   "execution_count": 39,
   "id": "6cbf5eb6-943d-4afc-99cb-eaf2b4655367",
   "metadata": {},
   "outputs": [
    {
     "data": {
      "image/png": "[encoded data removed]",
      "text/plain": [
       "<Figure size 640x480 with 1 Axes>"
      ]
     },
     "metadata": {},
     "output_type": "display_data"
    }
   ],
   "source": [
    "plt.bar(florida_ranking_counts.index, florida_ranking_counts.values, color=background_colors)\n",
    "plt.gca().invert_xaxis()  # Reverse the x-axis\n",
    "plt.xlabel('Ranking')\n",
    "plt.ylabel('Count')\n",
    "plt.title('Florida School Rankings')\n",
    "plt.show()"
   ]
  },
  {
   "cell_type": "markdown",
   "id": "1e6791b2-fb3c-4d4a-b8ad-1485b78da5d8",
   "metadata": {},
   "source": [
    "As we can see, the majority of schools in Florida have a favorable rating, with only 2 schools with an unfavorable rating. \n",
    "\n",
    "Looks like Florida has a good grip on its antisemitism. \n",
    "\n",
    "If we want to find out which schools have an unfavorable rating, again we can do so by examining our dataframe (e.g., `florida`). "
   ]
  },
  {
   "cell_type": "code",
   "execution_count": 40,
   "id": "1e219bc1-7588-4024-97d0-1d12a2bfdb22",
   "metadata": {},
   "outputs": [
    {
     "data": {
      "text/html": [
       "<div>\n",
       "<style scoped>\n",
       "    .dataframe tbody tr th:only-of-type {\n",
       "        vertical-align: middle;\n",
       "    }\n",
       "\n",
       "    .dataframe tbody tr th {\n",
       "        vertical-align: top;\n",
       "    }\n",
       "\n",
       "    .dataframe thead th {\n",
       "        text-align: right;\n",
       "    }\n",
       "</style>\n",
       "<table border=\"1\" class=\"dataframe\">\n",
       "  <thead>\n",
       "    <tr style=\"text-align: right;\">\n",
       "      <th></th>\n",
       "      <th>College/University</th>\n",
       "      <th>School Rankings</th>\n",
       "      <th># Faculty Boycotters</th>\n",
       "      <th>FJP (Y/N)</th>\n",
       "      <th>FJP Events &amp; Statements</th>\n",
       "      <th>Depts w/Statements (Y/N)</th>\n",
       "      <th>School Rankings #</th>\n",
       "      <th>School Rankings Text</th>\n",
       "    </tr>\n",
       "  </thead>\n",
       "  <tbody>\n",
       "    <tr>\n",
       "      <th>0</th>\n",
       "      <td>University of Florida, Gainesville</td>\n",
       "      <td>3 - Significant</td>\n",
       "      <td>12</td>\n",
       "      <td>Yes</td>\n",
       "      <td>8</td>\n",
       "      <td>No</td>\n",
       "      <td>3</td>\n",
       "      <td>Significant</td>\n",
       "    </tr>\n",
       "    <tr>\n",
       "      <th>1</th>\n",
       "      <td>Florida International University</td>\n",
       "      <td>1 - Minimal</td>\n",
       "      <td>7</td>\n",
       "      <td>No</td>\n",
       "      <td>0</td>\n",
       "      <td>No</td>\n",
       "      <td>1</td>\n",
       "      <td>Minimal</td>\n",
       "    </tr>\n",
       "    <tr>\n",
       "      <th>2</th>\n",
       "      <td>Florida State University</td>\n",
       "      <td>0 - Negligible</td>\n",
       "      <td>5</td>\n",
       "      <td>No</td>\n",
       "      <td>0</td>\n",
       "      <td>No</td>\n",
       "      <td>0</td>\n",
       "      <td>Negligible</td>\n",
       "    </tr>\n",
       "    <tr>\n",
       "      <th>3</th>\n",
       "      <td>University of South Florida</td>\n",
       "      <td>0 - Negligible</td>\n",
       "      <td>4</td>\n",
       "      <td>No</td>\n",
       "      <td>0</td>\n",
       "      <td>No</td>\n",
       "      <td>0</td>\n",
       "      <td>Negligible</td>\n",
       "    </tr>\n",
       "    <tr>\n",
       "      <th>4</th>\n",
       "      <td>Eastern Florida State College</td>\n",
       "      <td>0 - Negligible</td>\n",
       "      <td>0</td>\n",
       "      <td>No</td>\n",
       "      <td>0</td>\n",
       "      <td>No</td>\n",
       "      <td>0</td>\n",
       "      <td>Negligible</td>\n",
       "    </tr>\n",
       "    <tr>\n",
       "      <th>5</th>\n",
       "      <td>Florida Atlantic University</td>\n",
       "      <td>0 - Negligible</td>\n",
       "      <td>0</td>\n",
       "      <td>No</td>\n",
       "      <td>0</td>\n",
       "      <td>No</td>\n",
       "      <td>0</td>\n",
       "      <td>Negligible</td>\n",
       "    </tr>\n",
       "    <tr>\n",
       "      <th>6</th>\n",
       "      <td>Florida Gulf Coast University</td>\n",
       "      <td>0 - Negligible</td>\n",
       "      <td>0</td>\n",
       "      <td>No</td>\n",
       "      <td>0</td>\n",
       "      <td>No</td>\n",
       "      <td>0</td>\n",
       "      <td>Negligible</td>\n",
       "    </tr>\n",
       "    <tr>\n",
       "      <th>7</th>\n",
       "      <td>Florida Institute Of Technology</td>\n",
       "      <td>0 - Negligible</td>\n",
       "      <td>1</td>\n",
       "      <td>No</td>\n",
       "      <td>0</td>\n",
       "      <td>No</td>\n",
       "      <td>0</td>\n",
       "      <td>Negligible</td>\n",
       "    </tr>\n",
       "    <tr>\n",
       "      <th>8</th>\n",
       "      <td>Florida Keys Community College</td>\n",
       "      <td>0 - Negligible</td>\n",
       "      <td>0</td>\n",
       "      <td>No</td>\n",
       "      <td>0</td>\n",
       "      <td>No</td>\n",
       "      <td>0</td>\n",
       "      <td>Negligible</td>\n",
       "    </tr>\n",
       "    <tr>\n",
       "      <th>9</th>\n",
       "      <td>Florida Southern College</td>\n",
       "      <td>0 - Negligible</td>\n",
       "      <td>0</td>\n",
       "      <td>No</td>\n",
       "      <td>0</td>\n",
       "      <td>No</td>\n",
       "      <td>0</td>\n",
       "      <td>Negligible</td>\n",
       "    </tr>\n",
       "    <tr>\n",
       "      <th>10</th>\n",
       "      <td>University of Central Florida</td>\n",
       "      <td>0 - Negligible</td>\n",
       "      <td>1</td>\n",
       "      <td>No</td>\n",
       "      <td>0</td>\n",
       "      <td>No</td>\n",
       "      <td>0</td>\n",
       "      <td>Negligible</td>\n",
       "    </tr>\n",
       "    <tr>\n",
       "      <th>11</th>\n",
       "      <td>University of North Florida</td>\n",
       "      <td>0 - Negligible</td>\n",
       "      <td>0</td>\n",
       "      <td>No</td>\n",
       "      <td>0</td>\n",
       "      <td>No</td>\n",
       "      <td>0</td>\n",
       "      <td>Negligible</td>\n",
       "    </tr>\n",
       "    <tr>\n",
       "      <th>12</th>\n",
       "      <td>University of West Florida</td>\n",
       "      <td>0 - Negligible</td>\n",
       "      <td>1</td>\n",
       "      <td>No</td>\n",
       "      <td>0</td>\n",
       "      <td>No</td>\n",
       "      <td>0</td>\n",
       "      <td>Negligible</td>\n",
       "    </tr>\n",
       "  </tbody>\n",
       "</table>\n",
       "</div>"
      ],
      "text/plain": [
       "                    College/University  School Rankings # Faculty Boycotters  \\\n",
       "0   University of Florida, Gainesville  3 - Significant                   12   \n",
       "1     Florida International University      1 - Minimal                    7   \n",
       "2             Florida State University   0 - Negligible                    5   \n",
       "3          University of South Florida   0 - Negligible                    4   \n",
       "4        Eastern Florida State College   0 - Negligible                    0   \n",
       "5          Florida Atlantic University   0 - Negligible                    0   \n",
       "6        Florida Gulf Coast University   0 - Negligible                    0   \n",
       "7      Florida Institute Of Technology   0 - Negligible                    1   \n",
       "8       Florida Keys Community College   0 - Negligible                    0   \n",
       "9             Florida Southern College   0 - Negligible                    0   \n",
       "10       University of Central Florida   0 - Negligible                    1   \n",
       "11         University of North Florida   0 - Negligible                    0   \n",
       "12          University of West Florida   0 - Negligible                    1   \n",
       "\n",
       "   FJP (Y/N) FJP Events & Statements Depts w/Statements (Y/N)  \\\n",
       "0        Yes                       8                       No   \n",
       "1         No                       0                       No   \n",
       "2         No                       0                       No   \n",
       "3         No                       0                       No   \n",
       "4         No                       0                       No   \n",
       "5         No                       0                       No   \n",
       "6         No                       0                       No   \n",
       "7         No                       0                       No   \n",
       "8         No                       0                       No   \n",
       "9         No                       0                       No   \n",
       "10        No                       0                       No   \n",
       "11        No                       0                       No   \n",
       "12        No                       0                       No   \n",
       "\n",
       "   School Rankings # School Rankings Text  \n",
       "0                  3          Significant  \n",
       "1                  1              Minimal  \n",
       "2                  0           Negligible  \n",
       "3                  0           Negligible  \n",
       "4                  0           Negligible  \n",
       "5                  0           Negligible  \n",
       "6                  0           Negligible  \n",
       "7                  0           Negligible  \n",
       "8                  0           Negligible  \n",
       "9                  0           Negligible  \n",
       "10                 0           Negligible  \n",
       "11                 0           Negligible  \n",
       "12                 0           Negligible  "
      ]
     },
     "execution_count": 40,
     "metadata": {},
     "output_type": "execute_result"
    }
   ],
   "source": [
    "florida"
   ]
  },
  {
   "cell_type": "markdown",
   "id": "7c217e15-5f11-4e18-b383-689ab2e02ae5",
   "metadata": {},
   "source": [
    "Uh-oh. It looks like my Alma Mater has significant anti-Zionist faculty presence and activity. As we can see, the University of Florida is the only school in our `florida` dataframe that has an FJP chapter. In addition, there have been 8 FJP events and statements at this school. There is clearly more work to be done to ensure the safety of Jewish students at the University of Florida."
   ]
  },
  {
   "cell_type": "markdown",
   "id": "70a1d3e8-d409-431f-81b5-b822f0a6a84a",
   "metadata": {},
   "source": [
    "Of course, there are many other interesting things about our data and many more interesting questions we could ask to explore. Please feel free to play around with the data yourself and report back on your findings. "
   ]
  },
  {
   "cell_type": "code",
   "execution_count": null,
   "id": "0c096aea-80a4-40ce-af65-ece293e1d90e",
   "metadata": {},
   "outputs": [],
   "source": []
  }
 ],
 "metadata": {
  "kernelspec": {
   "display_name": "Python 3 (ipykernel)",
   "language": "python",
   "name": "python3"
  },
  "language_info": {
   "codemirror_mode": {
    "name": "ipython",
    "version": 3
   },
   "file_extension": ".py",
   "mimetype": "text/x-python",
   "name": "python",
   "nbconvert_exporter": "python",
   "pygments_lexer": "ipython3",
   "version": "3.11.10"
  }
 },
 "nbformat": 4,
 "nbformat_minor": 5
}
